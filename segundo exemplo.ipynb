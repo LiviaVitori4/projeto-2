{
 "cells": [
  {
   "cell_type": "code",
   "execution_count": 2,
   "id": "9c28899c-87df-4e5d-9a8f-b276be1201e2",
   "metadata": {
    "tags": []
   },
   "outputs": [],
   "source": [
    "#ifes, elif, else"
   ]
  },
  {
   "cell_type": "code",
   "execution_count": 6,
   "id": "2fd771c5-4004-49dd-a33f-14daf20b69ed",
   "metadata": {
    "collapsed": true,
    "jupyter": {
     "outputs_hidden": true
    },
    "tags": []
   },
   "outputs": [
    {
     "name": "stdout",
     "output_type": "stream",
     "text": [
      "Qual a temperatura hoje?\n"
     ]
    },
    {
     "name": "stdin",
     "output_type": "stream",
     "text": [
      " 34\n"
     ]
    },
    {
     "name": "stdout",
     "output_type": "stream",
     "text": [
      "está quente.\n"
     ]
    }
   ],
   "source": [
    "print(\"Qual a temperatura hoje?\")\n",
    "temp = float(input())\n",
    "\n",
    "\n",
    "if temp > 30:\n",
    "    print(\"está quente.\")"
   ]
  },
  {
   "cell_type": "code",
   "execution_count": 11,
   "id": "c19f86f6-1be9-4f18-a332-ca93196fe55d",
   "metadata": {
    "tags": []
   },
   "outputs": [
    {
     "name": "stdout",
     "output_type": "stream",
     "text": [
      "Qual a temperatura hoje?\n"
     ]
    },
    {
     "name": "stdin",
     "output_type": "stream",
     "text": [
      " 18\n"
     ]
    },
    {
     "name": "stdout",
     "output_type": "stream",
     "text": [
      "Está uma temperatura ok.\n"
     ]
    }
   ],
   "source": [
    "print(\"Qual a temperatura hoje?\")\n",
    "temp = float(input())\n",
    "\n",
    "\n",
    "if temp > 30:\n",
    "    print(\"está quente.\")\n",
    "    \n",
    "elif temp <0:\n",
    "    print(\"está MUITO frio.\")\n",
    "    \n",
    "    \n",
    "else:\n",
    "    print(\"Está uma temperatura ok.\")"
   ]
  },
  {
   "cell_type": "code",
   "execution_count": 12,
   "id": "6fe923aa-8031-48dc-b978-6a0b22d43554",
   "metadata": {
    "tags": []
   },
   "outputs": [],
   "source": [
    "#range\n"
   ]
  },
  {
   "cell_type": "code",
   "execution_count": 13,
   "id": "026f7853-3000-43f6-85b2-64502ce8850b",
   "metadata": {
    "tags": []
   },
   "outputs": [
    {
     "data": {
      "text/plain": [
       "range(0, 10)"
      ]
     },
     "execution_count": 13,
     "metadata": {},
     "output_type": "execute_result"
    }
   ],
   "source": [
    "range(10)"
   ]
  },
  {
   "cell_type": "markdown",
   "id": "4070174b-7829-4234-af64-48b04ccd11ec",
   "metadata": {
    "tags": []
   },
   "source": [
    "list(range(10))"
   ]
  },
  {
   "cell_type": "code",
   "execution_count": 16,
   "id": "578ffa54-13de-41a0-834c-a1e41035d51d",
   "metadata": {
    "tags": []
   },
   "outputs": [],
   "source": [
    "#FOR"
   ]
  },
  {
   "cell_type": "code",
   "execution_count": 18,
   "id": "9c2d76a6-333b-4d4a-bcb7-64576fe25598",
   "metadata": {
    "tags": []
   },
   "outputs": [
    {
     "name": "stdout",
     "output_type": "stream",
     "text": [
      "0\n",
      "1\n",
      "2\n",
      "3\n",
      "4\n",
      "5\n",
      "6\n",
      "7\n",
      "8\n",
      "9\n"
     ]
    }
   ],
   "source": [
    "for i in range(10):\n",
    "    print(i)"
   ]
  },
  {
   "cell_type": "code",
   "execution_count": 20,
   "id": "61f04338-ed49-4961-984f-95bce4b13f2c",
   "metadata": {
    "tags": []
   },
   "outputs": [
    {
     "name": "stdout",
     "output_type": "stream",
     "text": [
      "Número 0 é par\n",
      "Número 2 é par\n",
      "Número 4 é par\n",
      "Número 6 é par\n",
      "Número 8 é par\n",
      "Número 10 é par\n",
      "Número 12 é par\n",
      "Número 14 é par\n",
      "Número 16 é par\n",
      "Número 18 é par\n",
      "Número 20 é par\n",
      "Número 22 é par\n",
      "Número 24 é par\n",
      "Número 26 é par\n",
      "Número 28 é par\n",
      "Número 30 é par\n",
      "Número 32 é par\n",
      "Número 34 é par\n",
      "Número 36 é par\n",
      "Número 38 é par\n",
      "Número 40 é par\n",
      "Número 42 é par\n",
      "Número 44 é par\n",
      "Número 46 é par\n",
      "Número 48 é par\n",
      "Número 50 é par\n",
      "Número 52 é par\n",
      "Número 54 é par\n",
      "Número 56 é par\n",
      "Número 58 é par\n",
      "Número 60 é par\n",
      "Número 62 é par\n",
      "Número 64 é par\n",
      "Número 66 é par\n",
      "Número 68 é par\n",
      "Número 70 é par\n",
      "Número 72 é par\n",
      "Número 74 é par\n",
      "Número 76 é par\n",
      "Número 78 é par\n",
      "Número 80 é par\n",
      "Número 82 é par\n",
      "Número 84 é par\n",
      "Número 86 é par\n",
      "Número 88 é par\n",
      "Número 90 é par\n",
      "Número 92 é par\n",
      "Número 94 é par\n",
      "Número 96 é par\n",
      "Número 98 é par\n"
     ]
    }
   ],
   "source": [
    "#verificador de números pares \n",
    "for i in range(100):\n",
    "    if i % 2 ==0:\n",
    "        print(\"Número {} é par\".format(i))"
   ]
  },
  {
   "cell_type": "code",
   "execution_count": 21,
   "id": "78b48a85-f849-4343-be6f-f6f1beab1eb1",
   "metadata": {
    "tags": []
   },
   "outputs": [],
   "source": [
    "#WHILE\n"
   ]
  },
  {
   "cell_type": "code",
   "execution_count": 26,
   "id": "8cfdd44f-1389-4594-bac1-fbb8a4b143b9",
   "metadata": {
    "tags": []
   },
   "outputs": [
    {
     "name": "stdout",
     "output_type": "stream",
     "text": [
      "o valor de x é: 0\n",
      "o valor de x é: 1\n",
      "o valor de x é: 2\n",
      "o valor de x é: 3\n",
      "o valor de x é: 4\n",
      "o valor de x é: 5\n",
      "o valor de x é: 6\n",
      "o valor de x é: 7\n",
      "o valor de x é: 8\n",
      "o valor de x é: 9\n"
     ]
    }
   ],
   "source": [
    "x=0\n",
    "\n",
    "while x < 10:\n",
    "    print(\"o valor de x é: {}\".format(x))\n",
    "    x = x + 1"
   ]
  },
  {
   "cell_type": "code",
   "execution_count": 27,
   "id": "9514c3eb-0aea-4b06-9d0a-9254e3464e6a",
   "metadata": {
    "tags": []
   },
   "outputs": [],
   "source": [
    "#funções"
   ]
  },
  {
   "cell_type": "code",
   "execution_count": 29,
   "id": "8c51d654-1018-4d98-8966-86f35283cdc6",
   "metadata": {
    "tags": []
   },
   "outputs": [],
   "source": [
    "def soma_numeros(x, y):\n",
    "    return x + y "
   ]
  },
  {
   "cell_type": "markdown",
   "id": "834f393a-4128-4a16-8714-c66e5ab2ae78",
   "metadata": {
    "tags": []
   },
   "source": [
    "soma_numeros(1,2)"
   ]
  }
 ],
 "metadata": {
  "kernelspec": {
   "display_name": "Python 3 (ipykernel)",
   "language": "python",
   "name": "python3"
  },
  "language_info": {
   "codemirror_mode": {
    "name": "ipython",
    "version": 3
   },
   "file_extension": ".py",
   "mimetype": "text/x-python",
   "name": "python",
   "nbconvert_exporter": "python",
   "pygments_lexer": "ipython3",
   "version": "3.11.5"
  }
 },
 "nbformat": 4,
 "nbformat_minor": 5
}
