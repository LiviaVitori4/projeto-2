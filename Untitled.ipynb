{
 "cells": [
  {
   "cell_type": "markdown",
   "id": "f423029e-6432-454e-a5b0-a7e4f8c19b7e",
   "metadata": {
    "tags": []
   },
   "source": [
    "meu_dicionario = {\"nome\":\"paulo\", \"idade\":30, \"filhos\":['joão', 'Maria']}\n"
   ]
  },
  {
   "cell_type": "code",
   "execution_count": 4,
   "id": "4be5036c-7136-4796-bb88-4c71def8232d",
   "metadata": {
    "tags": []
   },
   "outputs": [
    {
     "data": {
      "text/plain": [
       "{'nome': 'paulo', 'idade': 30, 'filhos': ['joão', 'Maria']}"
      ]
     },
     "execution_count": 4,
     "metadata": {},
     "output_type": "execute_result"
    }
   ],
   "source": [
    "meu_dicionario"
   ]
  },
  {
   "cell_type": "code",
   "execution_count": 5,
   "id": "a3eed717-1242-4584-8898-0862930e8f82",
   "metadata": {
    "tags": []
   },
   "outputs": [
    {
     "data": {
      "text/plain": [
       "'paulo'"
      ]
     },
     "execution_count": 5,
     "metadata": {},
     "output_type": "execute_result"
    }
   ],
   "source": [
    "meu_dicionario['nome']"
   ]
  },
  {
   "cell_type": "code",
   "execution_count": 6,
   "id": "10768469-ed65-4f3e-87e7-030626ed641a",
   "metadata": {
    "tags": []
   },
   "outputs": [
    {
     "data": {
      "text/plain": [
       "30"
      ]
     },
     "execution_count": 6,
     "metadata": {},
     "output_type": "execute_result"
    }
   ],
   "source": [
    "meu_dicionario['idade']"
   ]
  },
  {
   "cell_type": "code",
   "execution_count": 7,
   "id": "b918f732-bfda-4875-ad2a-1a8c901bae0a",
   "metadata": {
    "tags": []
   },
   "outputs": [
    {
     "data": {
      "text/plain": [
       "{'nome': 'paulo', 'idade': 30, 'filhos': ['joão', 'Maria']}"
      ]
     },
     "execution_count": 7,
     "metadata": {},
     "output_type": "execute_result"
    }
   ],
   "source": [
    "meu_dicionario"
   ]
  },
  {
   "cell_type": "code",
   "execution_count": 10,
   "id": "591b9448-b124-4f33-a410-8fb842c8fb54",
   "metadata": {
    "tags": []
   },
   "outputs": [],
   "source": [
    "meu_dicionario['Frase'] = \"hoje está 'quente'\""
   ]
  },
  {
   "cell_type": "code",
   "execution_count": 13,
   "id": "03d53db2-e875-4b4e-b823-586abde6afce",
   "metadata": {
    "tags": []
   },
   "outputs": [
    {
     "data": {
      "text/plain": [
       "dict_keys(['nome', 'idade', 'filhos', 'Frase'])"
      ]
     },
     "execution_count": 13,
     "metadata": {},
     "output_type": "execute_result"
    }
   ],
   "source": [
    "#acesso ás chaves do dicionário\n",
    "meu_dicionario.keys()"
   ]
  },
  {
   "cell_type": "code",
   "execution_count": 14,
   "id": "613664fd-bac8-4a9d-bb86-3d49389ea23a",
   "metadata": {
    "tags": []
   },
   "outputs": [
    {
     "data": {
      "text/plain": [
       "dict_items([('nome', 'paulo'), ('idade', 30), ('filhos', ['joão', 'Maria']), ('Frase', \"hoje está 'quente'\")])"
      ]
     },
     "execution_count": 14,
     "metadata": {},
     "output_type": "execute_result"
    }
   ],
   "source": [
    "#acesso aos itens do dicionário\n",
    "meu_dicionario.items()"
   ]
  },
  {
   "cell_type": "code",
   "execution_count": 16,
   "id": "2f4979c0-a49e-4a90-9c7f-6ee64c3237bd",
   "metadata": {
    "tags": []
   },
   "outputs": [
    {
     "data": {
      "text/plain": [
       "dict_values(['paulo', 30, ['joão', 'Maria'], \"hoje está 'quente'\"])"
      ]
     },
     "execution_count": 16,
     "metadata": {},
     "output_type": "execute_result"
    }
   ],
   "source": [
    "#acesso aos valores do dicionario\n",
    "meu_dicionario.values()"
   ]
  },
  {
   "cell_type": "code",
   "execution_count": 18,
   "id": "4f78c913-445d-41e3-80f6-6139446ac056",
   "metadata": {
    "tags": []
   },
   "outputs": [
    {
     "name": "stdout",
     "output_type": "stream",
     "text": [
      "o nome do professor é paulo\n"
     ]
    }
   ],
   "source": [
    "print(\"o nome do professor é\", meu_dicionario['nome'])"
   ]
  },
  {
   "cell_type": "code",
   "execution_count": 21,
   "id": "c5bbb5e5-4072-4adf-bc6f-348323898049",
   "metadata": {
    "tags": []
   },
   "outputs": [
    {
     "name": "stdout",
     "output_type": "stream",
     "text": [
      "Digite o nome:\n"
     ]
    },
    {
     "name": "stdin",
     "output_type": "stream",
     "text": [
      " pri\n"
     ]
    }
   ],
   "source": [
    "meu_dicionario_2 = {}\n",
    "print(\"Digite o nome:\")\n",
    "meu_dicionario_2['nome'] = input()\n",
    "print(\"Digite a idade: \")\n",
    "meu_dicionario_2['idade'] = float(input())\n"
   ]
  },
  {
   "cell_type": "code",
   "execution_count": 22,
   "id": "e856e3c0-539e-49ea-9f35-09696086272c",
   "metadata": {
    "tags": []
   },
   "outputs": [],
   "source": [
    "#tuplas\n"
   ]
  },
  {
   "cell_type": "code",
   "execution_count": 23,
   "id": "9b9babf6-6968-40b8-aa03-bbfcd14e6cdc",
   "metadata": {
    "tags": []
   },
   "outputs": [],
   "source": [
    "t = (1,2,3)"
   ]
  },
  {
   "cell_type": "code",
   "execution_count": 24,
   "id": "69a89c40-ca7d-41af-97ce-a6dc5e9e4da0",
   "metadata": {
    "tags": []
   },
   "outputs": [
    {
     "data": {
      "text/plain": [
       "2"
      ]
     },
     "execution_count": 24,
     "metadata": {},
     "output_type": "execute_result"
    }
   ],
   "source": [
    "t[1]"
   ]
  },
  {
   "cell_type": "code",
   "execution_count": 25,
   "id": "9f043c77-2ca1-43f9-9ecf-43d3ba628b6e",
   "metadata": {
    "tags": []
   },
   "outputs": [],
   "source": [
    "a, b = (1,2) "
   ]
  },
  {
   "cell_type": "code",
   "execution_count": 26,
   "id": "d2dd807a-72ce-4f73-a24d-34ac940c3f8f",
   "metadata": {
    "tags": []
   },
   "outputs": [
    {
     "data": {
      "text/plain": [
       "1"
      ]
     },
     "execution_count": 26,
     "metadata": {},
     "output_type": "execute_result"
    }
   ],
   "source": [
    "a"
   ]
  },
  {
   "cell_type": "code",
   "execution_count": 27,
   "id": "bbcf9b71-817b-4add-96ad-c52ffa15dd15",
   "metadata": {
    "tags": []
   },
   "outputs": [
    {
     "data": {
      "text/plain": [
       "2"
      ]
     },
     "execution_count": 27,
     "metadata": {},
     "output_type": "execute_result"
    }
   ],
   "source": [
    "b"
   ]
  },
  {
   "cell_type": "code",
   "execution_count": null,
   "id": "fa1efd25-46ea-4bb1-a955-597f7959dd87",
   "metadata": {},
   "outputs": [],
   "source": []
  }
 ],
 "metadata": {
  "kernelspec": {
   "display_name": "Python 3 (ipykernel)",
   "language": "python",
   "name": "python3"
  },
  "language_info": {
   "codemirror_mode": {
    "name": "ipython",
    "version": 3
   },
   "file_extension": ".py",
   "mimetype": "text/x-python",
   "name": "python",
   "nbconvert_exporter": "python",
   "pygments_lexer": "ipython3",
   "version": "3.11.5"
  }
 },
 "nbformat": 4,
 "nbformat_minor": 5
}
